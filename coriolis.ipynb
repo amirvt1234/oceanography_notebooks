{
 "cells": [
  {
   "cell_type": "code",
   "execution_count": 1,
   "metadata": {
    "collapsed": false
   },
   "outputs": [
    {
     "name": "stdout",
     "output_type": "stream",
     "text": [
      "Populating the interactive namespace from numpy and matplotlib\n"
     ]
    }
   ],
   "source": [
    "%pylab inline\n",
    "%run 'coriolis_util.ipynb'"
   ]
  },
  {
   "cell_type": "markdown",
   "metadata": {},
   "source": [
    "# Use this notebook to answer question 4 a-b\n",
    "\n",
    "Earth radius and angular veolcity are given by $R_e = 6379$ km, and $\\omega = 7.2921 \\times 10^{-5}$ rad/s respectively. Angular velociy perpendicular to plane of rotation is given by\n",
    "<h3 align=\"center\">$U = R_e \\omega \\sin(\\pi/2 - \\theta) $,</h3>\n",
    "where $\\theta$ denotes the latitude.\n",
    "\n",
    "## For part (a) be careful with the units. For part (b) use function fd_c(theta,u) to calculate\n",
    "<h2 align=\"center\">$u^{\\prime} = \\frac{d u}{d \\theta} $.</h2>"
   ]
  },
  {
   "cell_type": "code",
   "execution_count": 2,
   "metadata": {
    "collapsed": false
   },
   "outputs": [
    {
     "name": "stdout",
     "output_type": "stream",
     "text": [
      "Help on function fd_c in module __main__:\n",
      "\n",
      "fd_c(theta, u)\n",
      "    Calculates the derivative of funtion f with respect to x (df/dx)\n",
      "    Inputs:\n",
      "    x: for example latitude \n",
      "    f(x)\n",
      "    \n",
      "    \n",
      "    Example:   out = curvefit_temp(x,f)\n",
      "    \n",
      "    Outputs: \n",
      "    - out[0] : x\n",
      "    - out[1] : df/dx\n",
      "\n"
     ]
    }
   ],
   "source": [
    "help(fd_c)"
   ]
  },
  {
   "cell_type": "code",
   "execution_count": 13,
   "metadata": {
    "collapsed": false
   },
   "outputs": [],
   "source": [
    "theta = linspace(-pi/2, pi/2, 100)\n"
   ]
  },
  {
   "cell_type": "code",
   "execution_count": null,
   "metadata": {
    "collapsed": false
   },
   "outputs": [],
   "source": []
  },
  {
   "cell_type": "code",
   "execution_count": null,
   "metadata": {
    "collapsed": true
   },
   "outputs": [],
   "source": []
  }
 ],
 "metadata": {
  "kernelspec": {
   "display_name": "Python 2",
   "language": "python",
   "name": "python2"
  },
  "language_info": {
   "codemirror_mode": {
    "name": "ipython",
    "version": 2
   },
   "file_extension": ".py",
   "mimetype": "text/x-python",
   "name": "python",
   "nbconvert_exporter": "python",
   "pygments_lexer": "ipython2",
   "version": "2.7.6"
  }
 },
 "nbformat": 4,
 "nbformat_minor": 0
}
