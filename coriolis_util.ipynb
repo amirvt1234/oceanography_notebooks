{
 "cells": [
  {
   "cell_type": "code",
   "execution_count": 2,
   "metadata": {
    "collapsed": false
   },
   "outputs": [],
   "source": [
    "rc('font', **{'family': 'serif', 'serif': ['Computer Modern']})\n",
    "rc('font', size=20)\n",
    "rc('text', usetex=True)\n",
    "rc('xtick', labelsize=20, color='black')\n",
    "rc('ytick', labelsize=20, color='black')\n",
    "rc('lines', linewidth=3.0)\n",
    "rcParams['axes.linewidth'] = 1.0\n",
    "rcParams['axes.edgecolor'] = 'black'\n",
    "rcParams['figure.figsize'] = (10.0, 8.0)\n",
    "rc('text', usetex=True)\n",
    "\n",
    "\n",
    "def fd_c (theta, u):\n",
    "    \"\"\"\n",
    "    Calculates the derivative of funtion f with respect to x (df/dx)\n",
    "    Inputs:\n",
    "    x: for example latitude \n",
    "    f(x)\n",
    "\n",
    "    \n",
    "    Example:   out = curvefit_temp(x,f)\n",
    "    \n",
    "    Outputs: \n",
    "    - out[0] : x\n",
    "    - out[1] : df/dx\n",
    "    \"\"\"\n",
    "    x = zeros(len(theta)-2)\n",
    "    y = zeros(len(theta)-2)\n",
    "    for i in range(len(theta)-2):\n",
    "        x[i] = theta[i+1]*180./pi\n",
    "        y[i] = (u[i+2]-u[i])/(theta[i+2]-theta[i])\n",
    "        \n",
    "    return (x,y)\n",
    "        "
   ]
  },
  {
   "cell_type": "code",
   "execution_count": null,
   "metadata": {
    "collapsed": true
   },
   "outputs": [],
   "source": []
  }
 ],
 "metadata": {
  "kernelspec": {
   "display_name": "Python 2",
   "language": "python",
   "name": "python2"
  },
  "language_info": {
   "codemirror_mode": {
    "name": "ipython",
    "version": 2
   },
   "file_extension": ".py",
   "mimetype": "text/x-python",
   "name": "python",
   "nbconvert_exporter": "python",
   "pygments_lexer": "ipython2",
   "version": "2.7.6"
  }
 },
 "nbformat": 4,
 "nbformat_minor": 0
}
